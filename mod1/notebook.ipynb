{
 "cells": [
  {
   "cell_type": "markdown",
   "metadata": {},
   "source": [
    "# Module 1 - Implementing and training a neural network"
   ]
  },
  {
   "cell_type": "markdown",
   "metadata": {},
   "source": [
    "## Environment verification\n",
    "Start by confirming you have PyTorch, TorchVision and TensorBoard installed.\n"
   ]
  },
  {
   "cell_type": "code",
   "execution_count": 1,
   "metadata": {
    "ExecuteTime": {
     "end_time": "2023-10-10T23:44:27.402507541Z",
     "start_time": "2023-10-10T23:44:24.157569130Z"
    }
   },
   "outputs": [],
   "source": [
    "import torch\n",
    "import torchvision\n",
    "from torch.utils.data import DataLoader"
   ]
  },
  {
   "cell_type": "markdown",
   "metadata": {
    "collapsed": false
   },
   "source": [
    "## QUESTIONS - General autonomous driving questions\n",
    "In this part, some general questions about autonomous driving, both general and specific to formula student, are presented. You should read the relevant parts of the rulebook and beginner's guide to answer some of the questions (they are attached in /docs folder of the repo). Feel free to use the internet.\n",
    "\n",
    "1. List some pros and cons of using a stereo camera versus LiDAR versus RADAR for perception. You can research examples from the industry on why do they use specific sensors and not others. \n",
    "2. Stereo cameras are capable of perceiving both color and depth for each pixel. These cameras can be bought plug-and-play solutions (for example Intel RealSense or StereoLabs ZED 2) or self-made using industrial cameras (for example Basler). Computing depth from multiple cameras requires processing, called \"depth estimation\", which is done onboard on the plug and play solutions. Which solution would you opt for if you had a small team with a short budget? Consider complexity, reliability and cost on your decision.\n",
    "3. In an autonomous car, monitorization and reaction to critical failures are essential to prevent uncontrolled behavior. According to the rulebook and the beginner's guide, what must happen if the car detects a camera and/or LiDAR malfunction? Select the correct option(s), mentioning the relevant rule(s) you found:\n",
    "    1. Play a sound using the TSAC.\n",
    "    2. Eject the processing computer.\n",
    "    3. Activate the EBS.\n",
    "    4. Send a text message to the officials notifying the issue.\n",
    "    5. Autonomously approach the ASR to perform a safe shutdown.\n",
    "4. Usually an autonomous driving pipeline is divided into perception, planning and control. Which algorithms are most commonly used by formula student teams on each of these stages? You can research other teams' social media or FSG Academy, for example.\n",
    "5. On a Formula Student car with an Autonomous System, for the car to operate on Manual Mode (with a driver) some verifications must be done by the Autonomous System. What are they?"
   ]
  },
  {
   "cell_type": "markdown",
   "metadata": {},
   "source": [
    "1. \n",
    "It all depends on the context, obviously. A stereo camera, let’s say an RGBD one that can capture both image and depth, can be super useful, for example, if we’re training models that need to recognize some kinda of objects present on the image, having that depth perception is a huge plus. You can even find some solutions for that with pre-processing that’ll give you a thermal image with depth info on the different elements (https://github.com/apple/ml-depth-pro). But honestly, having that real-time depth perception right from the start is a big advantage.\n",
    "If you’ve got something moving—like a drone or a car—depth perception is a must for making quick decisions. And getting depth directly from the camera saves a lot of resources, especially compared to a 2D camera, where you’d have to do way more processing to get the same kind of data, like i said before.\n",
    "\n",
    "Now, lidar, on the other hand, is awesome when you just need to know distances and mapping the environment without worrying about any visual images. So, if we don’t think image capture is critical, we can just use lidar for measuring distances, depending on the type of robot. Like a robot vacuum, for example. Those don’t need a camera; just lidar and a few sensors to map out their surroundings are more than enough to do the job.\n",
    "\n",
    "And about radar, it works by sending out radio waves and catching the reflection to calculate distances and object speeds. So Radar’s also better at precisely measuring speed, which is why it’s used in cars to detect other vehicles on the road and gauge their approach accurately. In a nutshell, if you need a system that performs well in all kinds of lighting or weather conditions, radar’s looks like a solid choice at least."
   ]
  },
  {
   "cell_type": "markdown",
   "metadata": {},
   "source": [
    "2.\n",
    "Honestly, if I’ve got a small team and a tight budget, I’d probably go with a plug-and-play solution. With these, you get the depth estimation already built-in, which means I don’t have to worry about setting up a bunch of extra processing on our end. Less hassle, fewer headaches.\n",
    "\n",
    "Building a custom setup is cool and can be more customizable, sure, but it’s also way more complex. You’d need to handle all that depth estimation yourself, which can be a time suck, not to mention it requires people who really know what they’re doing. And if you’re on a short budget, the extra resources needed for a custom build can quickly add up.\n",
    "\n",
    "What i usually like to approach is something like \"Will need to use this again?\" like on other projects or so, if i known for certain that i will, so i start searching the ways to customize the camera my self in my free time, off course it will take a while but in a long run it will be more money saved, and with more knowledge in the topic probably the better it will end up.\n",
    "\n",
    "So, in terms of reliability and cost-effectiveness, plug-and-play wins here.  But never let end solutions be ALWAYS the first choice."
   ]
  },
  {
   "cell_type": "markdown",
   "metadata": {},
   "source": [
    "3. \n",
    "Activate the EBS! "
   ]
  },
  {
   "cell_type": "markdown",
   "metadata": {},
   "source": [
    "4.\n",
    "For perception, teams looks to often use LiDAR and a camera data for cone detection and rely on sensor fusion to increase reliability. SLAM (Simultaneous Localization and Mapping) algorithms like GraphSLAM (what is kinda wild since to make it work in real time shouldn't be that easy) are common for mapping the track and localizing the car.\n",
    "\n",
    "In the planning stage, the path finding is handled with algorithms like A* (or A*-based methods) or RRT (Rapidly-exploring Random Tree). Model Predictive Control (MPC) is widely used for trajectory optimization like adjusting the future moves (at this point im starting to realize that maybe this computationally intensive solutions cannot be replaced... thats may be the reason that teslas have a good amount of teraflops).\n",
    "\n",
    "For control, teams use lateral control methods like Pure Pursuit or the Stanley Controller to keep the car on track (that i honestly have no idea how they work). For longitudinal control, PID controllers manage speed by adjusting throttle and braking (that when searching a little bit more about it, i founded that he can do a lot of things like temperature, flow, pressure, speed, that im not sure that they are using or not! but they should be using it)."
   ]
  },
  {
   "cell_type": "markdown",
   "metadata": {},
   "source": [
    "5.\n",
    "Before it can be driven in a manual model, the Autonomous System Master Switch (ASMS) need to be switched to off, Autonomous System Brake (ASB) needs to be completely inactive (we dont want it to brake by it self xD (maybe thats not a bad idea actually having like a level of permission that it can have on the car, just to serve as a secure measurement)) and the Emergency Brake System (EBS) should stay off too, resuming, the pilot do the braking. The driver should activate the Tractive System (TS) to! "
   ]
  },
  {
   "cell_type": "markdown",
   "metadata": {
    "collapsed": false
   },
   "source": [
    "## Dataset\n",
    "The used dataset is the well-known MNIST, which is composed of images of handwritten digits (0 to 9) with 28 pixels wide and 28 pixels high.\n",
    "\n",
    "The goals of most of the models using this dataset is to classify the digit of the image, which is our case.\n",
    "\n",
    "Download the training and validation dataset:"
   ]
  },
  {
   "cell_type": "code",
   "execution_count": 2,
   "metadata": {
    "ExecuteTime": {
     "end_time": "2023-10-10T23:44:27.539221844Z",
     "start_time": "2023-10-10T23:44:27.405299749Z"
    },
    "collapsed": false
   },
   "outputs": [],
   "source": [
    "training_set: torch.utils.data.Dataset = torchvision.datasets.MNIST(\"./data\", train=True, download=True, transform=torchvision.transforms.ToTensor())\n",
    "validation_set: torch.utils.data.Dataset = torchvision.datasets.MNIST(\"./data\", train=False, download=True, transform=torchvision.transforms.ToTensor())"
   ]
  },
  {
   "cell_type": "markdown",
   "metadata": {},
   "source": [
    "## Part 1 - MLP evaluation"
   ]
  },
  {
   "cell_type": "markdown",
   "metadata": {},
   "source": [
    "Import the example MLP:"
   ]
  },
  {
   "cell_type": "code",
   "execution_count": 3,
   "metadata": {
    "ExecuteTime": {
     "end_time": "2023-10-10T23:44:27.553011701Z",
     "start_time": "2023-10-10T23:44:27.541645409Z"
    }
   },
   "outputs": [],
   "source": [
    "from bobnet import BobNet"
   ]
  },
  {
   "cell_type": "markdown",
   "metadata": {
    "collapsed": false
   },
   "source": [
    "Create an instance of this model:"
   ]
  },
  {
   "cell_type": "code",
   "execution_count": 4,
   "metadata": {
    "ExecuteTime": {
     "end_time": "2023-10-10T23:44:27.562292617Z",
     "start_time": "2023-10-10T23:44:27.549221563Z"
    },
    "collapsed": false
   },
   "outputs": [],
   "source": [
    "model1 = BobNet()"
   ]
  },
  {
   "cell_type": "markdown",
   "metadata": {
    "collapsed": false
   },
   "source": [
    "Define the hyperparameters for this model:"
   ]
  },
  {
   "cell_type": "code",
   "execution_count": 5,
   "metadata": {
    "ExecuteTime": {
     "end_time": "2023-10-10T23:44:27.585806274Z",
     "start_time": "2023-10-10T23:44:27.563867031Z"
    },
    "collapsed": false
   },
   "outputs": [],
   "source": [
    "# batch size\n",
    "MLP_BATCH_SIZE=64\n",
    "\n",
    "# learning rate\n",
    "MLP_LEARNING_RATE=0.001\n",
    "\n",
    "# momentum\n",
    "MLP_MOMENTUM=0.9\n",
    "\n",
    "# training epochs to run\n",
    "MLP_EPOCHS=10"
   ]
  },
  {
   "cell_type": "markdown",
   "metadata": {
    "collapsed": false
   },
   "source": [
    "Create the training and validation dataloaders from the datasets downloaded earlier:"
   ]
  },
  {
   "cell_type": "code",
   "execution_count": 6,
   "metadata": {
    "ExecuteTime": {
     "end_time": "2023-10-10T23:44:27.611913299Z",
     "start_time": "2023-10-10T23:44:27.609459143Z"
    },
    "collapsed": false
   },
   "outputs": [],
   "source": [
    "# create the training loader\n",
    "mlp_training_loader = DataLoader(training_set, batch_size=MLP_BATCH_SIZE, shuffle=True) \n",
    "\n",
    "# create the validation loader\n",
    "mlp_validation_loader = DataLoader(validation_set, batch_size=MLP_BATCH_SIZE, shuffle=True)"
   ]
  },
  {
   "cell_type": "markdown",
   "metadata": {
    "collapsed": false
   },
   "source": [
    "Define the loss function and the optimizer:"
   ]
  },
  {
   "cell_type": "code",
   "execution_count": 7,
   "metadata": {
    "ExecuteTime": {
     "end_time": "2023-10-10T23:44:27.621901224Z",
     "start_time": "2023-10-10T23:44:27.609959279Z"
    },
    "collapsed": false
   },
   "outputs": [],
   "source": [
    "mlp_loss_fn = torch.nn.CrossEntropyLoss()\n",
    "\n",
    "mlp_optimizer = torch.optim.SGD(model1.parameters(), lr=MLP_LEARNING_RATE, momentum=MLP_MOMENTUM)"
   ]
  },
  {
   "cell_type": "markdown",
   "metadata": {
    "collapsed": false
   },
   "source": [
    "Run the training and validation:"
   ]
  },
  {
   "cell_type": "code",
   "execution_count": 8,
   "metadata": {
    "ExecuteTime": {
     "end_time": "2023-10-10T23:44:28.278065836Z",
     "start_time": "2023-10-10T23:44:27.610358765Z"
    },
    "collapsed": false
   },
   "outputs": [
    {
     "name": "stdout",
     "output_type": "stream",
     "text": [
      "Epoch 0 (99/938): training_loss = 2.3259026089099923\n",
      "Epoch 0 (199/938): training_loss = 2.3127268858291394\n",
      "Epoch 0 (299/938): training_loss = 2.3072395173203586\n",
      "Epoch 0 (399/938): training_loss = 2.3036454512660667\n",
      "Epoch 0 (499/938): training_loss = 2.3007044486387938\n",
      "Epoch 0 (599/938): training_loss = 2.2978948790561375\n",
      "Epoch 0 (699/938): training_loss = 2.29490914058276\n",
      "Epoch 0 (799/938): training_loss = 2.2917545668323887\n",
      "Epoch 0 (899/938): training_loss = 2.2881078043822054\n",
      "Epoch 0 (99/157): validation_loss = 2.2705726623535156\n",
      "Epoch 1 (99/938): training_loss = 2.2628023817081644\n",
      "Epoch 1 (199/938): training_loss = 2.247118078883569\n",
      "Epoch 1 (299/938): training_loss = 2.236777500165346\n",
      "Epoch 1 (399/938): training_loss = 2.228968163779505\n",
      "Epoch 1 (499/938): training_loss = 2.2200036063222943\n",
      "Epoch 1 (599/938): training_loss = 2.2113411044437616\n",
      "Epoch 1 (699/938): training_loss = 2.2016783620154907\n",
      "Epoch 1 (799/938): training_loss = 2.1906105018825794\n",
      "Epoch 1 (899/938): training_loss = 2.178711017061261\n",
      "Epoch 1 (99/157): validation_loss = 2.0812478065490723\n",
      "Epoch 2 (99/938): training_loss = 2.0669181045859752\n",
      "Epoch 2 (199/938): training_loss = 2.0444912017889356\n",
      "Epoch 2 (299/938): training_loss = 2.028412448921331\n",
      "Epoch 2 (399/938): training_loss = 2.0177100024426493\n",
      "Epoch 2 (499/938): training_loss = 2.008168722680193\n",
      "Epoch 2 (599/938): training_loss = 2.0005804340110998\n",
      "Epoch 2 (699/938): training_loss = 1.9916731687062799\n",
      "Epoch 2 (799/938): training_loss = 1.98279379127321\n",
      "Epoch 2 (899/938): training_loss = 1.9753974538226016\n",
      "Epoch 2 (99/157): validation_loss = 1.917404055595398\n",
      "Epoch 3 (99/938): training_loss = 1.9088365345290212\n",
      "Epoch 3 (199/938): training_loss = 1.8955721196217752\n",
      "Epoch 3 (299/938): training_loss = 1.8879893739087925\n",
      "Epoch 3 (399/938): training_loss = 1.8810414807838307\n",
      "Epoch 3 (499/938): training_loss = 1.8761065474492993\n",
      "Epoch 3 (599/938): training_loss = 1.8718616900738572\n",
      "Epoch 3 (699/938): training_loss = 1.8671896650385276\n",
      "Epoch 3 (799/938): training_loss = 1.8623557729327187\n",
      "Epoch 3 (899/938): training_loss = 1.856500051973659\n",
      "Epoch 3 (99/157): validation_loss = 1.8169509172439575\n",
      "Epoch 4 (99/938): training_loss = 1.8121457714023013\n",
      "Epoch 4 (199/938): training_loss = 1.8017979231312047\n",
      "Epoch 4 (299/938): training_loss = 1.7952793322279301\n",
      "Epoch 4 (399/938): training_loss = 1.7892229135771442\n",
      "Epoch 4 (499/938): training_loss = 1.7838257388743703\n",
      "Epoch 4 (599/938): training_loss = 1.7798345339716177\n",
      "Epoch 4 (699/938): training_loss = 1.7759162393932861\n",
      "Epoch 4 (799/938): training_loss = 1.771588913490238\n",
      "Epoch 4 (899/938): training_loss = 1.768553076782269\n",
      "Epoch 4 (99/157): validation_loss = 1.7456555366516113\n",
      "Epoch 5 (99/938): training_loss = 1.7505171732469038\n",
      "Epoch 5 (199/938): training_loss = 1.737829957775135\n",
      "Epoch 5 (299/938): training_loss = 1.7341676655421687\n",
      "Epoch 5 (399/938): training_loss = 1.7301307671649713\n",
      "Epoch 5 (499/938): training_loss = 1.7281343275177217\n",
      "Epoch 5 (599/938): training_loss = 1.72581920878517\n",
      "Epoch 5 (699/938): training_loss = 1.7238658519944068\n",
      "Epoch 5 (799/938): training_loss = 1.722354312116124\n",
      "Epoch 5 (899/938): training_loss = 1.7210615243476808\n",
      "Epoch 5 (99/157): validation_loss = 1.7096352577209473\n",
      "Epoch 6 (99/938): training_loss = 1.727367543210887\n",
      "Epoch 6 (199/938): training_loss = 1.7106597477467216\n",
      "Epoch 6 (299/938): training_loss = 1.704683054251017\n",
      "Epoch 6 (399/938): training_loss = 1.7034319516710172\n",
      "Epoch 6 (499/938): training_loss = 1.7015116747491106\n",
      "Epoch 6 (599/938): training_loss = 1.7003911616209155\n",
      "Epoch 6 (699/938): training_loss = 1.6995522274991473\n",
      "Epoch 6 (799/938): training_loss = 1.698294716872023\n",
      "Epoch 6 (899/938): training_loss = 1.6965212241163243\n",
      "Epoch 6 (99/157): validation_loss = 1.6917818784713745\n",
      "Epoch 7 (99/938): training_loss = 1.7035604269817621\n",
      "Epoch 7 (199/938): training_loss = 1.6943071631330942\n",
      "Epoch 7 (299/938): training_loss = 1.6902430085434164\n",
      "Epoch 7 (399/938): training_loss = 1.687511938556394\n",
      "Epoch 7 (499/938): training_loss = 1.6845909048894603\n",
      "Epoch 7 (599/938): training_loss = 1.6826708824288268\n",
      "Epoch 7 (699/938): training_loss = 1.682358479636251\n",
      "Epoch 7 (799/938): training_loss = 1.6814406592496793\n",
      "Epoch 7 (899/938): training_loss = 1.6812298667841945\n",
      "Epoch 7 (99/157): validation_loss = 1.6837102174758911\n",
      "Epoch 8 (99/938): training_loss = 1.6885051751377607\n",
      "Epoch 8 (199/938): training_loss = 1.6785869939842415\n",
      "Epoch 8 (299/938): training_loss = 1.6768177867334424\n",
      "Epoch 8 (399/938): training_loss = 1.6741121263432324\n",
      "Epoch 8 (499/938): training_loss = 1.6730425993282954\n",
      "Epoch 8 (599/938): training_loss = 1.6723547706221897\n",
      "Epoch 8 (699/938): training_loss = 1.6712221662715099\n",
      "Epoch 8 (799/938): training_loss = 1.6716545878423468\n",
      "Epoch 8 (899/938): training_loss = 1.6713409071106533\n",
      "Epoch 8 (99/157): validation_loss = 1.6725070476531982\n",
      "Epoch 9 (99/938): training_loss = 1.6787408084580393\n",
      "Epoch 9 (199/938): training_loss = 1.6695306438896524\n",
      "Epoch 9 (299/938): training_loss = 1.6679094471660345\n",
      "Epoch 9 (399/938): training_loss = 1.6686225597720994\n",
      "Epoch 9 (499/938): training_loss = 1.6687500333499334\n",
      "Epoch 9 (599/938): training_loss = 1.6666879528551946\n",
      "Epoch 9 (699/938): training_loss = 1.6654135699947505\n",
      "Epoch 9 (799/938): training_loss = 1.6649790850091488\n",
      "Epoch 9 (899/938): training_loss = 1.6641302490658703\n",
      "Epoch 9 (99/157): validation_loss = 1.6679073572158813\n"
     ]
    },
    {
     "data": {
      "text/plain": [
       "tensor(1.6520, device='cuda:0')"
      ]
     },
     "execution_count": 8,
     "metadata": {},
     "output_type": "execute_result"
    }
   ],
   "source": [
    "import utils\n",
    "\n",
    "# how many batches between logs\n",
    "LOGGING_INTERVAL=100\n",
    "\n",
    "utils.train_model(model1, MLP_EPOCHS, mlp_optimizer, mlp_loss_fn, mlp_training_loader, mlp_validation_loader, LOGGING_INTERVAL)"
   ]
  },
  {
   "cell_type": "markdown",
   "metadata": {
    "collapsed": false
   },
   "source": [
    "### QUESTIONS\n",
    "Explore the architecture on the script `mod1/bobnet.py`.\n",
    "1. Why does the input layer have 784 inputs? Consider the MNIST dataset samples' characteristics.\n",
    "Well since each image is 28x28, when flatten (self.flatten = nn.Flatten()) we wil endup with 784 (28*28) \n",
    "2. Why does the output layer have 10 outputs?\n",
    "The number of classes we want to identify are the numbers, that can be measured with 10 classes (0,1,2,3,4,5,6,7,8,9)"
   ]
  },
  {
   "cell_type": "markdown",
   "metadata": {},
   "source": [
    "## Part 2 - CNN implementation"
   ]
  },
  {
   "cell_type": "markdown",
   "metadata": {
    "collapsed": false
   },
   "source": [
    "Head over to the `cnn.py` file and implement a convolutional architecture (add some convolutional layers and fully connected layers). You can search the LeNet architecture or AlexNet to get some insights and/or inspiration (you can implement a simpler version: with less layers). 2D convolutional layers in PyTorch are created using the `torch.nn.Conv2d` class. Activation and loss functions can be found under `torch.nn.functional` (like ReLU and softmax)."
   ]
  },
  {
   "cell_type": "markdown",
   "metadata": {
    "collapsed": false
   },
   "source": [
    "Now, import the model:"
   ]
  },
  {
   "cell_type": "code",
   "execution_count": 9,
   "metadata": {
    "ExecuteTime": {
     "start_time": "2023-10-10T23:44:28.281022987Z"
    },
    "collapsed": false
   },
   "outputs": [],
   "source": [
    "from cnn import CNN"
   ]
  },
  {
   "cell_type": "markdown",
   "metadata": {
    "collapsed": false
   },
   "source": [
    "Create an instance of this model:"
   ]
  },
  {
   "cell_type": "code",
   "execution_count": 10,
   "metadata": {
    "ExecuteTime": {
     "end_time": "2023-10-10T23:44:28.351537423Z",
     "start_time": "2023-10-10T23:44:28.329128600Z"
    },
    "collapsed": false
   },
   "outputs": [],
   "source": [
    "model2 = CNN()"
   ]
  },
  {
   "cell_type": "code",
   "execution_count": 11,
   "metadata": {},
   "outputs": [],
   "source": [
    "# Hyperparameters for CNN\n",
    "CNN_BATCH_SIZE = 64\n",
    "CNN_LEARNING_RATE = 0.001\n",
    "CNN_MOMENTUM = 0.9\n",
    "CNN_EPOCHS = 10\n",
    "LOGGING_INTERVAL = 100\n"
   ]
  },
  {
   "cell_type": "code",
   "execution_count": 12,
   "metadata": {},
   "outputs": [],
   "source": [
    "# Data loaders\n",
    "cnn_training_loader = mlp_training_loader  # Reusing the MLP loader\n",
    "cnn_validation_loader = mlp_validation_loader\n"
   ]
  },
  {
   "cell_type": "code",
   "execution_count": 13,
   "metadata": {},
   "outputs": [],
   "source": [
    "import torch\n",
    "\n",
    "cnn_loss_fn = torch.nn.CrossEntropyLoss()\n",
    "cnn_optimizer = torch.optim.SGD(model2.parameters(), lr=CNN_LEARNING_RATE, momentum=CNN_MOMENTUM)\n"
   ]
  },
  {
   "cell_type": "code",
   "execution_count": 14,
   "metadata": {},
   "outputs": [
    {
     "name": "stdout",
     "output_type": "stream",
     "text": [
      "Epoch 0 (99/938): training_loss = 2.3268374842826764\n",
      "Epoch 0 (199/938): training_loss = 2.315009060816549\n",
      "Epoch 0 (299/938): training_loss = 2.3106896972975206\n",
      "Epoch 0 (399/938): training_loss = 2.308012975487195\n",
      "Epoch 0 (499/938): training_loss = 2.306139561838521\n",
      "Epoch 0 (599/938): training_loss = 2.3047175188494444\n",
      "Epoch 0 (699/938): training_loss = 2.303476700966962\n",
      "Epoch 0 (799/938): training_loss = 2.30243173737699\n",
      "Epoch 0 (899/938): training_loss = 2.3012319544663815\n",
      "Epoch 0 (99/157): validation_loss = 2.311129570007324\n",
      "Epoch 1 (99/938): training_loss = 2.3091470376409666\n",
      "Epoch 1 (199/938): training_loss = 2.2935188403680695\n",
      "Epoch 1 (299/938): training_loss = 2.284742160784361\n",
      "Epoch 1 (399/938): training_loss = 2.274127919572338\n",
      "Epoch 1 (499/938): training_loss = 2.2539327006062906\n",
      "Epoch 1 (599/938): training_loss = 2.200344504219463\n",
      "Epoch 1 (699/938): training_loss = 2.0669366754005223\n",
      "Epoch 1 (799/938): training_loss = 1.9085924930879858\n",
      "Epoch 1 (899/938): training_loss = 1.7655527019858759\n",
      "Epoch 1 (99/157): validation_loss = 0.5067079067230225\n",
      "Epoch 2 (99/938): training_loss = 0.5134401363555832\n",
      "Epoch 2 (199/938): training_loss = 0.47366630978620233\n",
      "Epoch 2 (299/938): training_loss = 0.4433002065755053\n",
      "Epoch 2 (399/938): training_loss = 0.4277613894607788\n",
      "Epoch 2 (499/938): training_loss = 0.41645222069146876\n",
      "Epoch 2 (599/938): training_loss = 0.4053261423598546\n",
      "Epoch 2 (699/938): training_loss = 0.39161742488202106\n",
      "Epoch 2 (799/938): training_loss = 0.3799225058364629\n",
      "Epoch 2 (899/938): training_loss = 0.36992716157728095\n",
      "Epoch 2 (99/157): validation_loss = 0.2779218256473541\n",
      "Epoch 3 (99/938): training_loss = 0.2826811470317118\n",
      "Epoch 3 (199/938): training_loss = 0.2660023998375514\n",
      "Epoch 3 (299/938): training_loss = 0.2631068982707218\n",
      "Epoch 3 (399/938): training_loss = 0.2577054118340774\n",
      "Epoch 3 (499/938): training_loss = 0.25381832335420507\n",
      "Epoch 3 (599/938): training_loss = 0.24648902709525894\n",
      "Epoch 3 (699/938): training_loss = 0.24402530547844323\n",
      "Epoch 3 (799/938): training_loss = 0.23827343297952108\n",
      "Epoch 3 (899/938): training_loss = 0.23534234815398367\n",
      "Epoch 3 (99/157): validation_loss = 0.18467408418655396\n",
      "Epoch 4 (99/938): training_loss = 0.1915839697149667\n",
      "Epoch 4 (199/938): training_loss = 0.18845518231017505\n",
      "Epoch 4 (299/938): training_loss = 0.18462473573941848\n",
      "Epoch 4 (399/938): training_loss = 0.1814759512126147\n",
      "Epoch 4 (499/938): training_loss = 0.18169076590684946\n",
      "Epoch 4 (599/938): training_loss = 0.1781433537005383\n",
      "Epoch 4 (699/938): training_loss = 0.1776239638068901\n",
      "Epoch 4 (799/938): training_loss = 0.17647968839215247\n",
      "Epoch 4 (899/938): training_loss = 0.17437014040082394\n",
      "Epoch 4 (99/157): validation_loss = 0.1364436000585556\n",
      "Epoch 5 (99/938): training_loss = 0.15668813846629076\n",
      "Epoch 5 (199/938): training_loss = 0.1497590908378213\n",
      "Epoch 5 (299/938): training_loss = 0.14261413138845694\n",
      "Epoch 5 (399/938): training_loss = 0.14667602256407267\n",
      "Epoch 5 (499/938): training_loss = 0.14541818007811874\n",
      "Epoch 5 (599/938): training_loss = 0.14390443402571054\n",
      "Epoch 5 (699/938): training_loss = 0.14341262448445838\n",
      "Epoch 5 (799/938): training_loss = 0.14231087231964284\n",
      "Epoch 5 (899/938): training_loss = 0.1412957981663929\n",
      "Epoch 5 (99/157): validation_loss = 0.11536973714828491\n",
      "Epoch 6 (99/938): training_loss = 0.11928729866302074\n",
      "Epoch 6 (199/938): training_loss = 0.12168691308710293\n",
      "Epoch 6 (299/938): training_loss = 0.12230355729563878\n",
      "Epoch 6 (399/938): training_loss = 0.11863449904694219\n",
      "Epoch 6 (499/938): training_loss = 0.11944713802422156\n",
      "Epoch 6 (599/938): training_loss = 0.1204729170409437\n",
      "Epoch 6 (699/938): training_loss = 0.12015711745042061\n",
      "Epoch 6 (799/938): training_loss = 0.11904577155118443\n",
      "Epoch 6 (899/938): training_loss = 0.11935560479635855\n",
      "Epoch 6 (99/157): validation_loss = 0.10177125036716461\n",
      "Epoch 7 (99/938): training_loss = 0.11936113247741954\n",
      "Epoch 7 (199/938): training_loss = 0.10868933677074298\n",
      "Epoch 7 (299/938): training_loss = 0.1093244994850362\n",
      "Epoch 7 (399/938): training_loss = 0.11052577825902697\n",
      "Epoch 7 (499/938): training_loss = 0.10850016305406013\n",
      "Epoch 7 (599/938): training_loss = 0.1051190220183368\n",
      "Epoch 7 (699/938): training_loss = 0.10375629090444213\n",
      "Epoch 7 (799/938): training_loss = 0.10297187657278492\n",
      "Epoch 7 (899/938): training_loss = 0.10383949872392237\n",
      "Epoch 7 (99/157): validation_loss = 0.08030959218740463\n",
      "Epoch 8 (99/938): training_loss = 0.09363409828846202\n",
      "Epoch 8 (199/938): training_loss = 0.09277615318982745\n",
      "Epoch 8 (299/938): training_loss = 0.09538778974160701\n",
      "Epoch 8 (399/938): training_loss = 0.09144364541074387\n",
      "Epoch 8 (499/938): training_loss = 0.09005849242008819\n",
      "Epoch 8 (599/938): training_loss = 0.08949309997322763\n",
      "Epoch 8 (699/938): training_loss = 0.0893041882077725\n",
      "Epoch 8 (799/938): training_loss = 0.08992022652999593\n",
      "Epoch 8 (899/938): training_loss = 0.0916517086977655\n",
      "Epoch 8 (99/157): validation_loss = 0.08024498075246811\n",
      "Epoch 9 (99/938): training_loss = 0.08467994317073714\n",
      "Epoch 9 (199/938): training_loss = 0.08413670156806258\n",
      "Epoch 9 (299/938): training_loss = 0.0829934771312868\n",
      "Epoch 9 (399/938): training_loss = 0.08232405303013429\n",
      "Epoch 9 (499/938): training_loss = 0.0815197564736158\n",
      "Epoch 9 (599/938): training_loss = 0.08234081596901052\n",
      "Epoch 9 (699/938): training_loss = 0.08215422398585277\n",
      "Epoch 9 (799/938): training_loss = 0.08238458881115025\n",
      "Epoch 9 (899/938): training_loss = 0.08416773684455436\n",
      "Epoch 9 (99/157): validation_loss = 0.06973018497228622\n",
      "Best validation loss: tensor(0.0724, device='cuda:0')\n"
     ]
    }
   ],
   "source": [
    "import utils\n",
    "\n",
    "# Train the CNN model\n",
    "best_val_loss = utils.train_model(model2, CNN_EPOCHS, cnn_optimizer, cnn_loss_fn, cnn_training_loader, cnn_validation_loader, LOGGING_INTERVAL)\n",
    "\n",
    "print(\"Best validation loss:\", best_val_loss)\n"
   ]
  },
  {
   "cell_type": "markdown",
   "metadata": {
    "collapsed": false
   },
   "source": [
    "### QUESTIONS\n",
    "\n",
    "1. What are the advantages of using convolutional layers versus fully-connected layers for image processing?\n",
    "\n",
    "Using CNN (that is inspired in our visual cortex, (i didn't knew that)), is a huge advantage for image-related tasks since we work with multiple layers and each layer is responsible for \"identify a group of features of the image\", with that in mind we can assume that with enough layers we will be able to keep each feature on only one layer, (not that we can really control that i think).\n",
    "\n",
    "So it works like and Hierarchy, like \"Face\" -> \"Edges\" -> \"Mouth\" -> \"Eyes\" -> \"Texture\" ...\n",
    "\n",
    "Fully connected layers treat each pixel independently, so we don't get that hierarchy that is good to detect some features in more complex images.\n",
    "\n",
    "Since the CNNs have multiple layers and they share weights they are highly parameter-efficient, achieving more with less, what is good to prevent overfitting."
   ]
  }
 ],
 "metadata": {
  "kernelspec": {
   "display_name": "recruitment",
   "language": "python",
   "name": "python3"
  },
  "language_info": {
   "codemirror_mode": {
    "name": "ipython",
    "version": 3
   },
   "file_extension": ".py",
   "mimetype": "text/x-python",
   "name": "python",
   "nbconvert_exporter": "python",
   "pygments_lexer": "ipython3",
   "version": "3.10.12"
  }
 },
 "nbformat": 4,
 "nbformat_minor": 2
}
